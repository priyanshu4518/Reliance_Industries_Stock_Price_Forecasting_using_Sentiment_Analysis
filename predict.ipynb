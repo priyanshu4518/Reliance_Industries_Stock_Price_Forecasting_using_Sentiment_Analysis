{
  "cells": [
    {
      "cell_type": "code",
      "source": [
        "def predict(input_string: str):\n",
        "  import numpy as np\n",
        "  import pandas as pd\n",
        "  import tensorflow as tf\n",
        "  from tensorflow.keras.models import load_model\n",
        "  lstm = load_model(\"lstm.h5\", custom_objects={'mse': tf.keras.losses.mse}) # Pass mse as a custom object during model loading\n",
        "  import joblib\n",
        "  loaded_results = joblib.load(\"sarimax_model.joblib\")\n",
        "  date1=pd.to_datetime(\"2025-03-03\")\n",
        "  date2=pd.to_datetime(input_string)\n",
        "  delta_days = (date2 - date1).days\n",
        "  date4=pd.to_datetime(\"2025-02-02\")\n",
        "  delta_days2=(date2-date4).days+1\n",
        "  dt=pd.read_csv('dt.csv')\n",
        "  from datetime import timedelta\n",
        "  def predict_future_regressor_values(model, df, seq_length, n_future):\n",
        "      last_sequence = df['weighted_sentiment'].values[-seq_length:]\n",
        "      current_seq = last_sequence.reshape((1, seq_length, 1))\n",
        "      last_date = pd.to_datetime(df['date'].iloc[-1])\n",
        "      future_dates = [last_date + timedelta(days=i) for i in range(1, n_future+1)]\n",
        "\n",
        "      preds = []\n",
        "      for _ in range(n_future):\n",
        "          next_value = model.predict(current_seq)[0, 0]\n",
        "          preds.append(next_value)\n",
        "          current_seq = np.append(current_seq[:,1:,:], [[[next_value]]], axis=1)\n",
        "\n",
        "      future_df = pd.DataFrame({\n",
        "          'date': future_dates,\n",
        "          'weighted_sentiment': preds\n",
        "      })\n",
        "      return future_df\n",
        "  seq_length=14\n",
        "  future_predictions = predict_future_regressor_values(lstm,dt, seq_length, n_future=delta_days)\n",
        "  dt2=dt.iloc[-30:,:]\n",
        "  dt_combined = pd.concat([dt2,future_predictions ], ignore_index=True)\n",
        "  dt['date']=pd.to_datetime(dt['date'])\n",
        "  future_predictions['date']=pd.to_datetime(future_predictions['date'])\n",
        "  dt2['date'] = pd.to_datetime(dt2['date'])\n",
        "  future_predictions['date'] = pd.to_datetime(future_predictions['date'])\n",
        "  dt_combined=dt_combined['weighted_sentiment']\n",
        "  dt_combined=dt_combined.to_numpy()\n",
        "  future_dates = pd.date_range(start=date4, periods=delta_days2, freq='D')\n",
        "  future_exog = pd.DataFrame({\n",
        "      'weighted_sentiment':dt_combined\n",
        "  }, index=future_dates)\n",
        "  forecast_obj = loaded_results.get_forecast(steps=delta_days2, exog=future_exog)\n",
        "  forecast_mean = forecast_obj.predicted_mean\n",
        "  forecast_ci = forecast_obj.conf_int()\n",
        "  forecast_mean=pd.DataFrame(forecast_mean)\n",
        "  forecast_mean['date']=future_dates\n",
        "  forecast_ci=pd.DataFrame(forecast_ci)\n",
        "  forecast_ci['date']=future_dates\n",
        "  return forecast_mean,forecast_ci"
      ],
      "metadata": {
        "id": "Et6jqK7KYlVO"
      },
      "execution_count": 61,
      "outputs": []
    },
    {
      "cell_type": "code",
      "source": [
        "import dill\n",
        "with open(\"predict.pkl\", \"wb\") as f:\n",
        "    dill.dump(predict, f)"
      ],
      "metadata": {
        "id": "ZylKSySFbl1X"
      },
      "execution_count": 66,
      "outputs": []
    }
  ],
  "metadata": {
    "colab": {
      "provenance": []
    },
    "kernelspec": {
      "display_name": "Python 3",
      "name": "python3"
    },
    "language_info": {
      "name": "python"
    }
  },
  "nbformat": 4,
  "nbformat_minor": 0
}